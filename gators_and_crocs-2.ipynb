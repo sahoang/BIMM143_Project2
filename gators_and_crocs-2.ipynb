{
 "cells": [
  {
   "cell_type": "markdown",
   "metadata": {
    "id": "7v55rWlQehzL"
   },
   "source": [
    "# Project 2 - Samantha Hoang\n",
    "\n",
    "## Scientific Question: Is it possible to visually identify between the American Alligator and the American Crocodile quickly?\n",
    "\n",
    "The American Alligator and American Crocodile have long been misidentified by non-experts due to their incredibly similar physical appearance. There are fifteen species within the Crocodylidae family and eight species within the Alligatoridae family, but we will focus on the American species of both the Alligator and Crocodile for today. \n",
    "\n",
    "According to the Everglades Holiday Park in Florida, the easiest features to focus on in distinguishing between the Alligator and the Crocodile is snout shape and jawline. \"Alligators have a wide, rounded, u-shaped snout, while crocodiles have long, pointed, v-shaped snouts.\" Also in regards to their jawlines, \"Alligators have a wide upper jaw, which allows for the teeth to remain hidden in the mouth.\" And for Crocodiles, \"both upper and lower jaws are the same size, exposing their teeth as they interlock, creating the look of a toothy grin.\" (Everglades Holiday Park, 2020, https://www.evergladesholidaypark.com/alligators-and-crocodiles/#:~:text=Snout%20Shape%3A%20Alligators%20have%20a,pointed%2C%20v%2Dshaped%20snouts.&text=Crocodiles%20are%20different%20from%20alligators,look%20of%20a%20toothy%20grin.)\n",
    "\n",
    "The database used for this project is derived from https://www.inaturalist.org/, an image gallery and informative website dedicated to collecting observations and providing a platform for naturalists to discuss findings. Images are classified voluntarily by experts and enthusiasts with a set of checks and balances to ensure image classification quality. Two hundred images of the American Alligator and another two hundred images of the American Crocodile were obtained and downloaded to a collective database. In total there are four hundred images. The images can be found at this link: https://drive.google.com/drive/folders/1STqrl1SqPyngqcwTH-zEvm_5_JXBoOjK?usp=sharing.\n",
    "\n",
    "## Scientific Hypothesis: If there are defining features to the head shape appearance between the American Alligator and the American Crocodile, then their images can be classified in an automated process.\n",
    "\n",
    "The database https://www.inaturalist.org/ had hundreds of images of both the American Alligator and Crocodile, but only two hundred of each were used in this experiment. They were downloaded as .jpeg files for compatability with the deep neural network model. The model is trained with these image datasets and starts to associate certain features to the appropriate class. Once trained, we are able to test the model using random shuffles of the image dataset and see the accuracy and validation scores. Collectively, the information is stored and plotted to compare its classification efficiency using matplotlib."
   ]
  },
  {
   "cell_type": "markdown",
   "metadata": {},
   "source": [
    "## Part 1: Load the Packages\n",
    "\n",
    "Packages loaded include the following:\n",
    "\n",
    "- os: Provides the function to create directories/folders to store the images and to split the number of images that will be used to train the models.\n",
    "\n",
    "- zipfile: An unzipping method to unzip the the zip file containing the image data sets. \n",
    "\n",
    "- random: Generating random shuffles of the dataset to test the model.\n",
    "\n",
    "- tensorflow: The foundation of the deep learning model and is the main package for the keras sequential model where the convolutional neural network is formed.\n",
    "\n",
    "- RMSprop: A gradient based optimization technique that is used in training the neural network.\n",
    "\n",
    "- ImageDataGenerator: Generates batches of image data for each epoch.\n",
    "\n",
    "- copyfile: Used to copy contents of the source file to the destination file.\n",
    "\n",
    "- matplotlib: Used for the data visualization of the accuracies and losses in the results."
   ]
  },
  {
   "cell_type": "code",
   "execution_count": 12,
   "metadata": {
    "id": "dn-6c02VmqiN"
   },
   "outputs": [],
   "source": [
    "import os\n",
    "import zipfile\n",
    "import random\n",
    "import tensorflow as tf\n",
    "from tensorflow.keras.optimizers import RMSprop\n",
    "from tensorflow.keras.preprocessing.image import ImageDataGenerator\n",
    "from shutil import copyfile\n",
    "import matplotlib"
   ]
  },
  {
   "cell_type": "markdown",
   "metadata": {},
   "source": [
    "## Part 2: Downloading the Dataset and Extracting ZIP Files\n",
    "\n",
    "The image dataset can be found here on Google Drive by this link: https://drive.google.com/drive/folders/1STqrl1SqPyngqcwTH-zEvm_5_JXBoOjK?usp=sharing. Download each dataset to your local machine. In the end you should have a folder containing Alligator images and another containing Crocodile images. "
   ]
  },
  {
   "cell_type": "code",
   "execution_count": 14,
   "metadata": {
    "id": "Pih0qha6zANg"
   },
   "outputs": [],
   "source": [
    "# Make additional directories to separate the alligators and crocodiles.\n",
    "try:\n",
    "    os.mkdir('reptile_data')\n",
    "    os.mkdir('reptile_data/alligators')\n",
    "    os.mkdir('reptile_data/crocodiles')\n",
    "except OSError:\n",
    "    pass"
   ]
  },
  {
   "cell_type": "markdown",
   "metadata": {},
   "source": [
    "These new directories will appear in the Juypter Notebook main directory. There should be a new folder made called \"reptile_data\". From here, manually input the images into their respective folders. Alligator images will be placed in reptile_data/alligators and Crocodile images will be placed in reptile_data/crocodiles. You may need to press upload for each photo."
   ]
  },
  {
   "cell_type": "code",
   "execution_count": 15,
   "metadata": {
    "colab": {
     "base_uri": "https://localhost:8080/"
    },
    "id": "DM851ZmN28J3",
    "outputId": "8fa629cc-d737-49f1-93f4-dcd3793589e3"
   },
   "outputs": [
    {
     "name": "stdout",
     "output_type": "stream",
     "text": [
      "200\n",
      "200\n"
     ]
    }
   ],
   "source": [
    "# len will give the folder a numerical value based on its contents and os.listdir will pull up the file in question.\n",
    "print(len(os.listdir('reptile_data/alligators')))\n",
    "print(len(os.listdir('reptile_data/crocodiles')))\n",
    "\n",
    "# Expected Output: 200 each"
   ]
  },
  {
   "cell_type": "markdown",
   "metadata": {},
   "source": [
    "New directories are made to allow data to be stored in a specific place for training and testing."
   ]
  },
  {
   "cell_type": "code",
   "execution_count": 4,
   "metadata": {
    "id": "F-QkLjxpmyK2"
   },
   "outputs": [],
   "source": [
    "try:\n",
    "    os.mkdir('reptile_data/alligators-v-crocodiles')\n",
    "    os.mkdir('reptile_data/alligators-v-crocodiles/training')\n",
    "    os.mkdir('reptile_data/alligators-v-crocodiles/testing')\n",
    "    os.mkdir('reptile_data/alligators-v-crocodiles/training/alligators')\n",
    "    os.mkdir('reptile_data/alligators-v-crocodiles/training/crocodiles')\n",
    "    os.mkdir('reptile_data/alligators-v-crocodiles/testing/alligators')\n",
    "    os.mkdir('reptile_data/alligators-v-crocodiles/testing/crocodiles')\n",
    "except OSError:\n",
    "    pass"
   ]
  },
  {
   "cell_type": "markdown",
   "metadata": {},
   "source": [
    "## Part 3: Prepare the Data for Training and Testing\n",
    "\n",
    "The data needs to be split into training and testing sets in order to effectively train the model. "
   ]
  },
  {
   "cell_type": "code",
   "execution_count": 17,
   "metadata": {
    "id": "zvSODo0f9LaU"
   },
   "outputs": [],
   "source": [
    "# Split the data from the source into the different directories previously created.\n",
    "def split_data(SOURCE, TRAINING, TESTING, SPLIT_SIZE):\n",
    "    files = []\n",
    "    for filename in os.listdir(SOURCE):\n",
    "        file = SOURCE + filename\n",
    "        if os.path.getsize(file) > 0:\n",
    "            files.append(filename)\n",
    "        else:\n",
    "            print(filename + \" is zero length, so ignoring.\")\n",
    "\n",
    "    training_length = int(len(files) * SPLIT_SIZE)\n",
    "    testing_length = int(len(files) - training_length)\n",
    "    shuffled_set = random.sample(files, len(files))\n",
    "    training_set = shuffled_set[0:training_length]\n",
    "    testing_set = shuffled_set[-testing_length:]\n",
    "\n",
    "    for filename in training_set:\n",
    "        this_file = SOURCE + filename\n",
    "        destination = TRAINING + filename\n",
    "        copyfile(this_file, destination)\n",
    "\n",
    "    for filename in testing_set:\n",
    "        this_file = SOURCE + filename\n",
    "        destination = TESTING + filename\n",
    "        copyfile(this_file, destination)\n",
    "\n",
    "\n",
    "ALLIGATORS_SOURCE_DIR = \"reptile_data/alligators/\"\n",
    "TRAINING_ALLIGATORS_DIR = \"reptile_data/alligators-v-crocodiles/training/alligators/\"\n",
    "TESTING_ALLIGATORS_DIR = \"reptile_data/alligators-v-crocodiles/testing/alligators/\"\n",
    "CROCODILES_SOURCE_DIR = \"reptile_data/crocodiles/\"\n",
    "TRAINING_CROCODILES_DIR = \"reptile_data/alligators-v-crocodiles/training/crocodiles/\"\n",
    "TESTING_CROCODILES_DIR = \"reptile_data/alligators-v-crocodiles/testing/crocodiles/\"\n",
    "\n",
    "split_size = .9\n",
    "split_data(ALLIGATORS_SOURCE_DIR, TRAINING_ALLIGATORS_DIR, TESTING_ALLIGATORS_DIR, split_size)\n",
    "split_data(CROCODILES_SOURCE_DIR, TRAINING_CROCODILES_DIR, TESTING_CROCODILES_DIR, split_size)"
   ]
  },
  {
   "cell_type": "code",
   "execution_count": 16,
   "metadata": {
    "colab": {
     "base_uri": "https://localhost:8080/"
    },
    "id": "hwHXFhVG3786",
    "outputId": "c235101a-9354-4852-e967-deea2ba232c8"
   },
   "outputs": [
    {
     "name": "stdout",
     "output_type": "stream",
     "text": [
      "180\n",
      "180\n",
      "20\n",
      "20\n"
     ]
    }
   ],
   "source": [
    "# Check the directories afterwards to ensure that the proper amount of training and testing images were split where training images outnumber testing images.\n",
    "print(len(os.listdir('reptile_data/alligators-v-crocodiles/training/alligators/')))\n",
    "print(len(os.listdir('reptile_data/alligators-v-crocodiles/training/crocodiles/')))\n",
    "print(len(os.listdir('reptile_data/alligators-v-crocodiles/testing/alligators/')))\n",
    "print(len(os.listdir('reptile_data/alligators-v-crocodiles/testing/crocodiles/')))\n",
    "\n",
    "# Expected output:\n",
    "# 180\n",
    "# 180\n",
    "# 20\n",
    "# 20"
   ]
  },
  {
   "cell_type": "markdown",
   "metadata": {},
   "source": [
    "## Part 4: Model Training and Testing\n",
    "\n",
    "The model is now trained using Keras Sequential Model which condenses the images by maxpooling and condensing image size and pixel density. The model is then placed under certain parameters such as batch_size, class_mode, and target_size which will be used in training. The model is trained using the keras function model.fit with 15 epochs. Using matplotlib, the output of the different epochs will be plotted comparing validation accuracy with training accuracy and validation loss with training loss."
   ]
  },
  {
   "cell_type": "code",
   "execution_count": 18,
   "metadata": {
    "id": "-BQrav4anTmj"
   },
   "outputs": [],
   "source": [
    "# Using keras sequential moel, the convolutional neural network is formed. \n",
    "model = tf.keras.models.Sequential([\n",
    "    tf.keras.layers.Conv2D(16, (3, 3), activation='relu', input_shape=(150, 150, 3)),\n",
    "    tf.keras.layers.MaxPooling2D(2, 2),\n",
    "    tf.keras.layers.Conv2D(32, (3, 3), activation='relu'),\n",
    "    tf.keras.layers.MaxPooling2D(2, 2),\n",
    "    tf.keras.layers.Conv2D(64, (3, 3), activation='relu'),\n",
    "    tf.keras.layers.MaxPooling2D(2, 2),\n",
    "    tf.keras.layers.Flatten(),\n",
    "    tf.keras.layers.Dense(512, activation='relu'),\n",
    "    tf.keras.layers.Dense(1, activation='sigmoid')\n",
    "])\n",
    "\n",
    "model.compile(optimizer=RMSprop(learning_rate=0.001), loss='binary_crossentropy', metrics=['acc'])\n"
   ]
  },
  {
   "cell_type": "code",
   "execution_count": 21,
   "metadata": {
    "colab": {
     "base_uri": "https://localhost:8080/"
    },
    "id": "fQrZfVgz4j2g",
    "outputId": "fbd0ce1d-2630-4db9-ee01-3cc024f2cf1e"
   },
   "outputs": [
    {
     "name": "stdout",
     "output_type": "stream",
     "text": [
      "Found 395 images belonging to 2 classes.\n",
      "Found 75 images belonging to 2 classes.\n"
     ]
    }
   ],
   "source": [
    "# Training and validation parameters are set with batch_size = 10, class_mode = 'binary', and target_size = (150, 150).\n",
    "TRAINING_DIR = \"reptile_data/alligators-v-crocodiles/training/\"\n",
    "train_datagen = ImageDataGenerator(rescale=1.0/255.)\n",
    "train_generator = train_datagen.flow_from_directory(TRAINING_DIR,\n",
    "                                                    batch_size=10,\n",
    "                                                    class_mode='binary',\n",
    "                                                    target_size=(150, 150))\n",
    "\n",
    "VALIDATION_DIR = \"reptile_data/alligators-v-crocodiles/testing/\"\n",
    "validation_datagen = ImageDataGenerator(rescale=1.0/255.)\n",
    "validation_generator = validation_datagen.flow_from_directory(VALIDATION_DIR,\n",
    "                                                              batch_size=10,\n",
    "                                                              class_mode='binary',\n",
    "                                                              target_size=(150, 150))\n",
    "                                                              \n",
    "# Expected Output:\n",
    "# Found 360 images belonging to 2 classes.\n",
    "# Found 40 images belonging to 2 classes."
   ]
  },
  {
   "cell_type": "code",
   "execution_count": 22,
   "metadata": {
    "colab": {
     "base_uri": "https://localhost:8080/"
    },
    "id": "5qE1G6JB4fMn",
    "outputId": "411b3e7a-6ad2-475d-84c1-85c2e33841dd"
   },
   "outputs": [
    {
     "name": "stdout",
     "output_type": "stream",
     "text": [
      "Epoch 1/15\n",
      "4/4 [==============================] - 5s 960ms/step - loss: 5.7832 - acc: 0.6000 - val_loss: 1.0197 - val_acc: 0.6250\n",
      "Epoch 2/15\n",
      "4/4 [==============================] - 2s 635ms/step - loss: 1.0189 - acc: 0.5750 - val_loss: 0.7079 - val_acc: 0.4750\n",
      "Epoch 3/15\n",
      "4/4 [==============================] - 2s 638ms/step - loss: 0.7417 - acc: 0.3500 - val_loss: 0.6430 - val_acc: 0.6750\n",
      "Epoch 4/15\n",
      "4/4 [==============================] - 2s 616ms/step - loss: 0.6944 - acc: 0.4750 - val_loss: 0.6773 - val_acc: 0.6750\n",
      "Epoch 5/15\n",
      "4/4 [==============================] - 2s 649ms/step - loss: 0.6898 - acc: 0.5750 - val_loss: 0.7196 - val_acc: 0.4250\n",
      "Epoch 6/15\n",
      "4/4 [==============================] - 2s 602ms/step - loss: 0.7274 - acc: 0.5500 - val_loss: 0.6819 - val_acc: 0.6250\n",
      "Epoch 7/15\n",
      "4/4 [==============================] - 2s 618ms/step - loss: 0.7196 - acc: 0.5750 - val_loss: 0.6631 - val_acc: 0.8500\n",
      "Epoch 8/15\n",
      "4/4 [==============================] - 2s 610ms/step - loss: 1.6225 - acc: 0.6500 - val_loss: 0.6754 - val_acc: 0.5250\n",
      "Epoch 9/15\n",
      "4/4 [==============================] - 2s 638ms/step - loss: 0.6739 - acc: 0.5500 - val_loss: 0.6557 - val_acc: 0.7500\n",
      "Epoch 10/15\n",
      "4/4 [==============================] - 2s 614ms/step - loss: 0.5894 - acc: 0.7250 - val_loss: 0.6361 - val_acc: 0.6250\n",
      "Epoch 11/15\n",
      "4/4 [==============================] - 2s 667ms/step - loss: 0.8314 - acc: 0.4750 - val_loss: 0.6777 - val_acc: 0.5750\n",
      "Epoch 12/15\n",
      "4/4 [==============================] - 3s 692ms/step - loss: 0.6881 - acc: 0.5750 - val_loss: 0.6552 - val_acc: 0.7000\n",
      "Epoch 13/15\n",
      "4/4 [==============================] - 2s 634ms/step - loss: 0.7598 - acc: 0.6000 - val_loss: 0.6626 - val_acc: 0.7000\n",
      "Epoch 14/15\n",
      "4/4 [==============================] - 2s 642ms/step - loss: 0.9199 - acc: 0.6250 - val_loss: 0.6587 - val_acc: 0.6000\n",
      "Epoch 15/15\n",
      "4/4 [==============================] - 2s 604ms/step - loss: 0.6744 - acc: 0.5500 - val_loss: 0.6393 - val_acc: 0.6250\n"
     ]
    }
   ],
   "source": [
    "# The model is then trained by running 15 epochs and the training and validation accuracies and losses are recorded.\n",
    "history = model.fit(train_generator, epochs=15, steps_per_epoch=len(TRAINING_DIR)//10,\n",
    "                    validation_data=validation_generator, validation_steps=len(VALIDATION_DIR)//10)"
   ]
  },
  {
   "cell_type": "code",
   "execution_count": 23,
   "metadata": {
    "colab": {
     "base_uri": "https://localhost:8080/",
     "height": 563
    },
    "id": "MWZrJN4-65RC",
    "outputId": "4889e848-1f2a-46ab-9df6-18376d822f54"
   },
   "outputs": [
    {
     "data": {
      "text/plain": [
       "<Figure size 432x288 with 0 Axes>"
      ]
     },
     "execution_count": 23,
     "metadata": {},
     "output_type": "execute_result"
    },
    {
     "data": {
      "image/png": "[encoded data removed]",
      "text/plain": [
       "<Figure size 432x288 with 1 Axes>"
      ]
     },
     "metadata": {
      "needs_background": "light"
     },
     "output_type": "display_data"
    },
    {
     "data": {
      "image/png": "[encoded data removed]",
      "text/plain": [
       "<Figure size 432x288 with 1 Axes>"
      ]
     },
     "metadata": {
      "needs_background": "light"
     },
     "output_type": "display_data"
    },
    {
     "data": {
      "text/plain": [
       "<Figure size 432x288 with 0 Axes>"
      ]
     },
     "metadata": {},
     "output_type": "display_data"
    }
   ],
   "source": [
    "# The graphs are then generated.\n",
    "%matplotlib inline\n",
    "\n",
    "import matplotlib.image  as mpimg\n",
    "import matplotlib.pyplot as plt\n",
    "\n",
    "# The list of lists are retrieved of the training and test data sets in each training epoch.\n",
    "acc=history.history['acc']\n",
    "val_acc=history.history['val_acc']\n",
    "loss=history.history['loss']\n",
    "val_loss=history.history['val_loss']\n",
    "\n",
    "epochs=range(len(acc))\n",
    "\n",
    "# The training and validation accuracy of each epoch is plotted.\n",
    "plt.plot(epochs, acc, 'r', \"Training Accuracy\")\n",
    "plt.plot(epochs, val_acc, 'b', \"Validation Accuracy\")\n",
    "plt.title('Training and validation accuracy')\n",
    "plt.figure()\n",
    "\n",
    "# The training and validation loss of each epoch is plotted.\n",
    "plt.plot(epochs, loss, 'r', \"Training Loss\")\n",
    "plt.plot(epochs, val_loss, 'b', \"Validation Loss\")\n",
    "plt.figure()"
   ]
  },
  {
   "cell_type": "markdown",
   "metadata": {},
   "source": [
    "## Part 6: Analysis of the Results\n",
    "\n",
    "The plots above show that the model does not have a significant ability to distinguish between the American Alligator and American Crocodile. The similarities in both snout shape and jawline prove to be indistinguishable to the model when the model was trained and tested based on the image dataset. The average training accuracy resulted as 0.48, or 48% and the average validation accuracy as 0.63, or 63%. The average training loss is about 1.14 and the average validation loss is 0.69. Since the accuracies are quite far from 1, or 100% and the losses are quite large, the experiment was unsuccessful in proving the hypothesis. Errors that could have occurred and should be considered for future experimentation would be the following:\n",
    "- Lack of images: Image sets that are in the thousands are more suited for this process to work. \n",
    "- Poor image quality: The specimen position and photo quality needs to be clear enough to find defining features. Since the species used are large and hard to photo, the images from iNaturalist are sometimes not good quality and poorly positioned. Even with thorough screening, images with perfect head position and close range are hard to come by."
   ]
  },
  {
   "cell_type": "code",
   "execution_count": null,
   "metadata": {},
   "outputs": [],
   "source": []
  }
 ],
 "metadata": {
  "accelerator": "GPU",
  "colab": {
   "collapsed_sections": [],
   "name": "gators_and_crocs.ipynb",
   "provenance": []
  },
  "kernelspec": {
   "display_name": "Python 3",
   "language": "python",
   "name": "python3"
  },
  "language_info": {
   "codemirror_mode": {
    "name": "ipython",
    "version": 3
   },
   "file_extension": ".py",
   "mimetype": "text/x-python",
   "name": "python",
   "nbconvert_exporter": "python",
   "pygments_lexer": "ipython3",
   "version": "3.8.5"
  }
 },
 "nbformat": 4,
 "nbformat_minor": 1
}
